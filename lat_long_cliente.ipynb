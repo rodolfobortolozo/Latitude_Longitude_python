{
 "cells": [
  {
   "cell_type": "code",
   "execution_count": null,
   "metadata": {},
   "outputs": [],
   "source": [
    "#Conexão Banco de Dados\n",
    "import cx_Oracle\n",
    "import retorna_latlong as geolocalizacao\n",
    "from dotenv import dotenv_values\n",
    "\n",
    "config = dotenv_values() #Variaves de configuração\n",
    "\n",
    "localizacao = geolocalizacao.lat_long(API_KEY = config['API_KEY'],\n",
    "                                      DOMAIN = 'maps.googleapis.com')\n",
    "\n",
    "connection = cx_Oracle.connect(user=config['USER'], \n",
    "                               password=config['PASSWORD'], \n",
    "                               dsn=config['DSN'], \n",
    "                               encoding=\"UTF-8\")"
   ]
  },
  {
   "cell_type": "code",
   "execution_count": null,
   "metadata": {},
   "outputs": [],
   "source": [
    "cursor = connection.cursor()\n",
    "cur = connection.cursor()\n",
    "result = []\n",
    "\n",
    "cursor.execute (\"SELECT * FROM ESTV_CLIENTE_LAT_LONG ORDER BY seqPessoa ASC\")\n",
    "\n",
    "\n",
    "while True:\n",
    "    row = cursor.fetchone()\n",
    "    \n",
    "    if row is None:\n",
    "        break\n",
    "    \n",
    "    cur.execute(\"INSERT INTO EST_CLIENTE_LAT_LONG VALUES (:SEQPESSOA, :LATITUDE, :LONGITUDE)\",\n",
    "                [row[0], localizacao.ret_lat_ou_long(row[7],\"lat\"),localizacao.ret_lat_ou_long(row[7],\"long\") ])\n",
    "    connection.commit()\n"
   ]
  },
  {
   "cell_type": "code",
   "execution_count": null,
   "metadata": {},
   "outputs": [],
   "source": [
    "query = \"\"\"\n",
    "                    BEGIN\n",
    "                    FOR I IN(select * FROM EST_CLIENTE_LAT_LONG WHERE IMPORTADO = 0)\n",
    "                        LOOP\n",
    "                        UPDATE GE_PESSOA SET LATITUDE = I.LATITUDE, LONGITUDE = I.LONGITUDE\n",
    "                        WHERE SEQPESSOA = I.SEQPESSOA;\n",
    "                        \n",
    "                        INSERT INTO DGE_OCORRENCIA (TIPO,NIVEL,DATA,HORA,CODUSUARIO,DETALHE,MOTIVO,SISTEMA,MODULO,TABLINK,TERMINAL,\n",
    "                                USUARIOOS,CODAPLICACAO,SESSIONID,CODLINK)\n",
    "                                VALUES(2,1,TRUNC(SYSDATE),172600,'RODOLFO.BORTOLOZO','LATITUDE E LONGITUDE',\n",
    "                                'LATITUDE E LONGITUDE','GLOBAL','PESSOA','GE_PESSOA','DESKTOP-1U8AVLM','rodolfo.bortolozo','GEPES0010',NULL, I.SEQPESSOA);\n",
    "                        \n",
    "                        UPDATE EST_CLIENTE_LAT_LONG SET IMPORTADO = 1 WHERE SEQPESSOA = I.SEQPESSOA;\n",
    "                        \n",
    "                        COMMIT;\n",
    "                        \n",
    "                        END LOOP;\n",
    "                    END;  \n",
    "\"\"\"\n",
    "\n",
    "cursor.execute(query)\n",
    "\n",
    "connection.commit()"
   ]
  }
 ],
 "metadata": {
  "interpreter": {
   "hash": "e55569d1b3b5a17bb7655eccde4c6b1d61ba541d03a974a8cc7ec36eed8bf0fe"
  },
  "kernelspec": {
   "display_name": "Python 3.10.3 ('venv': venv)",
   "language": "python",
   "name": "python3"
  },
  "language_info": {
   "codemirror_mode": {
    "name": "ipython",
    "version": 3
   },
   "file_extension": ".py",
   "mimetype": "text/x-python",
   "name": "python",
   "nbconvert_exporter": "python",
   "pygments_lexer": "ipython3",
   "version": "3.10.6"
  },
  "orig_nbformat": 4
 },
 "nbformat": 4,
 "nbformat_minor": 2
}
